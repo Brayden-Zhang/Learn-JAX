{
  "nbformat": 4,
  "nbformat_minor": 0,
  "metadata": {
    "colab": {
      "provenance": [],
      "collapsed_sections": [
        "PdZXq3KKG4No",
        "MR0l8ODtH_GU"
      ]
    },
    "kernelspec": {
      "name": "python3",
      "display_name": "Python 3"
    },
    "language_info": {
      "name": "python"
    }
  },
  "cells": [
    {
      "cell_type": "code",
      "execution_count": 4,
      "metadata": {
        "id": "Cs8Jeb37jwOe"
      },
      "outputs": [],
      "source": [
        "import numpy as np\n",
        "from jax import grad, jit\n",
        "from jax import lax\n",
        "from jax import random\n",
        "import jax\n",
        "import jax.numpy as jnp"
      ]
    },
    {
      "cell_type": "markdown",
      "source": [
        "## Basic NumPy-Like Operations\n"
      ],
      "metadata": {
        "id": "PdZXq3KKG4No"
      }
    },
    {
      "cell_type": "code",
      "source": [
        "import jax.numpy as jnp\n",
        "\n",
        "# Create arrays\n",
        "a = jnp.array([1, 2, 3])\n",
        "b = jnp.array([4, 5, 6])\n",
        "\n",
        "# Element-wise operations\n",
        "c = a + b\n",
        "d = a * b\n",
        "\n",
        "# Mathematical functions\n",
        "e = jnp.sin(a)\n",
        "f = jnp.log(b)\n",
        "print(e, f)\n",
        "\n",
        "def selu(x, alpha=1.67, lmbda=1.05):\n",
        "  return lmbda * jnp.where(x > 0, x, alpha * jnp.exp(x) - alpha)\n",
        "\n",
        "x = jnp.arange(5.0)\n",
        "print(selu(x))"
      ],
      "metadata": {
        "colab": {
          "base_uri": "https://localhost:8080/"
        },
        "id": "8kvShrigG6KX",
        "outputId": "dca82e93-abce-4cfd-f660-1f6759092152"
      },
      "execution_count": 6,
      "outputs": [
        {
          "output_type": "stream",
          "name": "stdout",
          "text": [
            "[0.84147096 0.9092974  0.14112   ] [1.3862944 1.609438  1.7917595]\n",
            "[0.        1.05      2.1       3.1499999 4.2      ]\n"
          ]
        }
      ]
    },
    {
      "cell_type": "code",
      "source": [],
      "metadata": {
        "id": "sl2PfG9TH-1E"
      },
      "execution_count": null,
      "outputs": []
    },
    {
      "cell_type": "markdown",
      "source": [
        "## grad"
      ],
      "metadata": {
        "id": "MR0l8ODtH_GU"
      }
    },
    {
      "cell_type": "code",
      "source": [
        "from jax import grad\n",
        "\n",
        "def f(x):\n",
        "    return x ** 2\n",
        "\n",
        "# Compute the gradient of f\n",
        "df_dx = grad(f)\n",
        "print(df_dx(3.0))  # Output: 6.0\n"
      ],
      "metadata": {
        "colab": {
          "base_uri": "https://localhost:8080/"
        },
        "id": "_mIRmnpYIBF9",
        "outputId": "3c4ac3e7-072e-4af5-f9c4-8e4793b0cab4"
      },
      "execution_count": 7,
      "outputs": [
        {
          "output_type": "stream",
          "name": "stdout",
          "text": [
            "6.0\n"
          ]
        }
      ]
    },
    {
      "cell_type": "markdown",
      "source": [
        "## JIT\n"
      ],
      "metadata": {
        "id": "BfbYTydOHxMP"
      }
    },
    {
      "cell_type": "code",
      "source": [
        "from jax import jit\n",
        "\n",
        "@jit\n",
        "def matmul(a, b):\n",
        "    return jnp.dot(a, b)\n",
        "\n",
        "x = jnp.ones((1000, 1000))\n",
        "y = jnp.ones((1000, 1000))\n",
        "result = matmul(x, y)\n"
      ],
      "metadata": {
        "id": "G5MTanwYHyJy"
      },
      "execution_count": null,
      "outputs": []
    },
    {
      "cell_type": "markdown",
      "source": [
        "## Train a Simple Neural Net"
      ],
      "metadata": {
        "id": "kM0qDDIuJNmr"
      }
    },
    {
      "cell_type": "markdown",
      "source": [
        "### Hyperparams\n"
      ],
      "metadata": {
        "id": "t_SMtgwUJaZD"
      }
    },
    {
      "cell_type": "code",
      "source": [
        "# Install Flax\n",
        "!pip install flax\n",
        "\n",
        "import jax\n",
        "import jax.numpy as jnp\n",
        "from jax import grad, jit, vmap\n",
        "import flax.linen as nn\n",
        "import optax\n",
        "\n",
        "# Define the neural network using Flax\n",
        "class MLP(nn.Module):\n",
        "    hidden_dim: int\n",
        "    output_dim: int\n",
        "\n",
        "    def setup(self):\n",
        "        self.dense1 = nn.Dense(self.hidden_dim)\n",
        "        self.dense2 = nn.Dense(self.output_dim)\n",
        "\n",
        "    def __call__(self, x):\n",
        "        x = jax.nn.relu(self.dense1(x))\n",
        "        x = self.dense2(x)\n",
        "        return x\n",
        "\n",
        "# Define the loss function\n",
        "def loss_fn(params, batch):\n",
        "    x, y = batch\n",
        "    logits = model.apply(params, x)\n",
        "    loss = jnp.mean(optax.softmax_cross_entropy(logits=logits, labels=y))\n",
        "    return loss\n",
        "\n",
        "# Define a function to compute gradients\n",
        "@jit\n",
        "def compute_grads(params, batch):\n",
        "    return grad(loss_fn)(params, batch)\n",
        "\n",
        "# Initialize model and optimizer\n",
        "key = jax.random.PRNGKey(0)\n",
        "model = MLP(hidden_dim=64, output_dim=10)\n",
        "params = model.init(key, jnp.ones((1, 28*28)))  # Example input shape for MNIST\n",
        "optimizer = optax.adam(learning_rate=0.001)\n",
        "opt_state = optimizer.init(params)\n",
        "\n",
        "# Define a function to apply gradients and update parameters\n",
        "@jit\n",
        "def update(params, batch, opt_state):\n",
        "    grads = compute_grads(params, batch)\n",
        "    updates, new_opt_state = optimizer.update(grads, opt_state)\n",
        "    new_params = optax.apply_updates(params, updates)\n",
        "    return new_params, new_opt_state\n",
        "\n",
        "# Example synthetic data\n",
        "def create_batch(batch_size):\n",
        "    x = jax.random.normal(key, (batch_size, 28*28))\n",
        "    y = jax.nn.one_hot(jax.random.randint(key, (batch_size,), 0, 10), 10)\n",
        "    return (x, y)\n",
        "\n",
        "# Training loop\n",
        "batch_size = 64\n",
        "num_epochs = 100\n",
        "\n",
        "for epoch in range(num_epochs):\n",
        "    batch = create_batch(batch_size)\n",
        "    params, opt_state = update(params, batch, opt_state)\n",
        "    if epoch % 1 == 0:\n",
        "        current_loss = loss_fn(params, batch)\n",
        "        print(f\"Epoch {epoch}, Loss: {current_loss:.4f}\")\n",
        "\n",
        "# Define a batched version of the model prediction function\n",
        "batched_predict = vmap(lambda x: model.apply(params, x))\n",
        "\n",
        "# Example batch prediction\n",
        "batch = jax.random.normal(key, (10, 28*28))\n",
        "predictions = batched_predict(batch)\n",
        "print(predictions)\n"
      ],
      "metadata": {
        "colab": {
          "base_uri": "https://localhost:8080/"
        },
        "id": "s-BhOOjLJbz0",
        "outputId": "5b99e15d-6e49-4848-88b7-88b7db5ef96d"
      },
      "execution_count": 10,
      "outputs": [
        {
          "output_type": "stream",
          "name": "stdout",
          "text": [
            "Requirement already satisfied: flax in /usr/local/lib/python3.10/dist-packages (0.8.4)\n",
            "Requirement already satisfied: numpy>=1.22 in /usr/local/lib/python3.10/dist-packages (from flax) (1.26.4)\n",
            "Requirement already satisfied: jax>=0.4.19 in /usr/local/lib/python3.10/dist-packages (from flax) (0.4.26)\n",
            "Requirement already satisfied: msgpack in /usr/local/lib/python3.10/dist-packages (from flax) (1.0.8)\n",
            "Requirement already satisfied: optax in /usr/local/lib/python3.10/dist-packages (from flax) (0.2.2)\n",
            "Requirement already satisfied: orbax-checkpoint in /usr/local/lib/python3.10/dist-packages (from flax) (0.5.23)\n",
            "Requirement already satisfied: tensorstore in /usr/local/lib/python3.10/dist-packages (from flax) (0.1.64)\n",
            "Requirement already satisfied: rich>=11.1 in /usr/local/lib/python3.10/dist-packages (from flax) (13.7.1)\n",
            "Requirement already satisfied: typing-extensions>=4.2 in /usr/local/lib/python3.10/dist-packages (from flax) (4.12.2)\n",
            "Requirement already satisfied: PyYAML>=5.4.1 in /usr/local/lib/python3.10/dist-packages (from flax) (6.0.2)\n",
            "Requirement already satisfied: ml-dtypes>=0.2.0 in /usr/local/lib/python3.10/dist-packages (from jax>=0.4.19->flax) (0.4.0)\n",
            "Requirement already satisfied: opt-einsum in /usr/local/lib/python3.10/dist-packages (from jax>=0.4.19->flax) (3.3.0)\n",
            "Requirement already satisfied: scipy>=1.9 in /usr/local/lib/python3.10/dist-packages (from jax>=0.4.19->flax) (1.13.1)\n",
            "Requirement already satisfied: markdown-it-py>=2.2.0 in /usr/local/lib/python3.10/dist-packages (from rich>=11.1->flax) (3.0.0)\n",
            "Requirement already satisfied: pygments<3.0.0,>=2.13.0 in /usr/local/lib/python3.10/dist-packages (from rich>=11.1->flax) (2.16.1)\n",
            "Requirement already satisfied: absl-py>=0.7.1 in /usr/local/lib/python3.10/dist-packages (from optax->flax) (1.4.0)\n",
            "Requirement already satisfied: chex>=0.1.86 in /usr/local/lib/python3.10/dist-packages (from optax->flax) (0.1.86)\n",
            "Requirement already satisfied: jaxlib>=0.1.37 in /usr/local/lib/python3.10/dist-packages (from optax->flax) (0.4.26+cuda12.cudnn89)\n",
            "Requirement already satisfied: etils[epath,epy] in /usr/local/lib/python3.10/dist-packages (from orbax-checkpoint->flax) (1.7.0)\n",
            "Requirement already satisfied: nest_asyncio in /usr/local/lib/python3.10/dist-packages (from orbax-checkpoint->flax) (1.6.0)\n",
            "Requirement already satisfied: protobuf in /usr/local/lib/python3.10/dist-packages (from orbax-checkpoint->flax) (3.20.3)\n",
            "Requirement already satisfied: toolz>=0.9.0 in /usr/local/lib/python3.10/dist-packages (from chex>=0.1.86->optax->flax) (0.12.1)\n",
            "Requirement already satisfied: mdurl~=0.1 in /usr/local/lib/python3.10/dist-packages (from markdown-it-py>=2.2.0->rich>=11.1->flax) (0.1.2)\n",
            "Requirement already satisfied: fsspec in /usr/local/lib/python3.10/dist-packages (from etils[epath,epy]->orbax-checkpoint->flax) (2024.6.1)\n",
            "Requirement already satisfied: importlib_resources in /usr/local/lib/python3.10/dist-packages (from etils[epath,epy]->orbax-checkpoint->flax) (6.4.2)\n",
            "Requirement already satisfied: zipp in /usr/local/lib/python3.10/dist-packages (from etils[epath,epy]->orbax-checkpoint->flax) (3.20.0)\n",
            "Epoch 0, Loss: 2.1131\n",
            "Epoch 1, Loss: 1.7660\n",
            "Epoch 2, Loss: 1.4649\n",
            "Epoch 3, Loss: 1.2084\n",
            "Epoch 4, Loss: 0.9971\n",
            "Epoch 5, Loss: 0.8239\n",
            "Epoch 6, Loss: 0.6833\n",
            "Epoch 7, Loss: 0.5669\n",
            "Epoch 8, Loss: 0.4714\n",
            "Epoch 9, Loss: 0.3924\n",
            "Epoch 10, Loss: 0.3264\n",
            "Epoch 11, Loss: 0.2719\n",
            "Epoch 12, Loss: 0.2274\n",
            "Epoch 13, Loss: 0.1907\n",
            "Epoch 14, Loss: 0.1602\n",
            "Epoch 15, Loss: 0.1350\n",
            "Epoch 16, Loss: 0.1141\n",
            "Epoch 17, Loss: 0.0967\n",
            "Epoch 18, Loss: 0.0823\n",
            "Epoch 19, Loss: 0.0703\n",
            "Epoch 20, Loss: 0.0604\n",
            "Epoch 21, Loss: 0.0521\n",
            "Epoch 22, Loss: 0.0453\n",
            "Epoch 23, Loss: 0.0395\n",
            "Epoch 24, Loss: 0.0347\n",
            "Epoch 25, Loss: 0.0307\n",
            "Epoch 26, Loss: 0.0273\n",
            "Epoch 27, Loss: 0.0244\n",
            "Epoch 28, Loss: 0.0220\n",
            "Epoch 29, Loss: 0.0199\n",
            "Epoch 30, Loss: 0.0181\n",
            "Epoch 31, Loss: 0.0166\n",
            "Epoch 32, Loss: 0.0153\n",
            "Epoch 33, Loss: 0.0141\n",
            "Epoch 34, Loss: 0.0131\n",
            "Epoch 35, Loss: 0.0122\n",
            "Epoch 36, Loss: 0.0114\n",
            "Epoch 37, Loss: 0.0108\n",
            "Epoch 38, Loss: 0.0101\n",
            "Epoch 39, Loss: 0.0096\n",
            "Epoch 40, Loss: 0.0091\n",
            "Epoch 41, Loss: 0.0087\n",
            "Epoch 42, Loss: 0.0083\n",
            "Epoch 43, Loss: 0.0079\n",
            "Epoch 44, Loss: 0.0076\n",
            "Epoch 45, Loss: 0.0073\n",
            "Epoch 46, Loss: 0.0071\n",
            "Epoch 47, Loss: 0.0068\n",
            "Epoch 48, Loss: 0.0066\n",
            "Epoch 49, Loss: 0.0064\n",
            "Epoch 50, Loss: 0.0062\n",
            "Epoch 51, Loss: 0.0060\n",
            "Epoch 52, Loss: 0.0058\n",
            "Epoch 53, Loss: 0.0057\n",
            "Epoch 54, Loss: 0.0056\n",
            "Epoch 55, Loss: 0.0054\n",
            "Epoch 56, Loss: 0.0053\n",
            "Epoch 57, Loss: 0.0052\n",
            "Epoch 58, Loss: 0.0051\n",
            "Epoch 59, Loss: 0.0050\n",
            "Epoch 60, Loss: 0.0049\n",
            "Epoch 61, Loss: 0.0048\n",
            "Epoch 62, Loss: 0.0047\n",
            "Epoch 63, Loss: 0.0046\n",
            "Epoch 64, Loss: 0.0045\n",
            "Epoch 65, Loss: 0.0044\n",
            "Epoch 66, Loss: 0.0044\n",
            "Epoch 67, Loss: 0.0043\n",
            "Epoch 68, Loss: 0.0042\n",
            "Epoch 69, Loss: 0.0042\n",
            "Epoch 70, Loss: 0.0041\n",
            "Epoch 71, Loss: 0.0040\n",
            "Epoch 72, Loss: 0.0040\n",
            "Epoch 73, Loss: 0.0039\n",
            "Epoch 74, Loss: 0.0039\n",
            "Epoch 75, Loss: 0.0038\n",
            "Epoch 76, Loss: 0.0038\n",
            "Epoch 77, Loss: 0.0037\n",
            "Epoch 78, Loss: 0.0037\n",
            "Epoch 79, Loss: 0.0036\n",
            "Epoch 80, Loss: 0.0036\n",
            "Epoch 81, Loss: 0.0035\n",
            "Epoch 82, Loss: 0.0035\n",
            "Epoch 83, Loss: 0.0034\n",
            "Epoch 84, Loss: 0.0034\n",
            "Epoch 85, Loss: 0.0033\n",
            "Epoch 86, Loss: 0.0033\n",
            "Epoch 87, Loss: 0.0033\n",
            "Epoch 88, Loss: 0.0032\n",
            "Epoch 89, Loss: 0.0032\n",
            "Epoch 90, Loss: 0.0032\n",
            "Epoch 91, Loss: 0.0031\n",
            "Epoch 92, Loss: 0.0031\n",
            "Epoch 93, Loss: 0.0031\n",
            "Epoch 94, Loss: 0.0030\n",
            "Epoch 95, Loss: 0.0030\n",
            "Epoch 96, Loss: 0.0030\n",
            "Epoch 97, Loss: 0.0029\n",
            "Epoch 98, Loss: 0.0029\n",
            "Epoch 99, Loss: 0.0029\n",
            "[[ 0.28581506 -0.42815417 -0.07312651  0.6703384  -1.074296    0.39291078\n",
            "  -0.05423377 -0.6733577   0.49413428  0.3453373 ]\n",
            " [ 0.5000819  -0.912382    0.8927427   0.27631262 -1.9246353  -0.17158723\n",
            "   0.0388483   0.28833473  0.82796234  0.7642446 ]\n",
            " [ 1.2990587   1.6940649   0.02455317  1.5650173  -1.2835219  -0.21656018\n",
            "  -1.3610656  -1.0151103  -0.9461648  -0.7238764 ]\n",
            " [-1.9783578   0.44057876  0.89797777  1.0024989  -0.7730516  -0.75060064\n",
            "   2.9696844   1.0323771   1.0396984  -0.0804999 ]\n",
            " [ 1.4998616   0.69733727  1.2736359   0.30413103  0.48385108  0.1526196\n",
            "  -0.12733757  0.2824751   0.9887667  -0.39674178]\n",
            " [ 0.3696786  -0.7282873   0.03115808  0.5348132  -1.583007   -0.7593958\n",
            "   0.33548915  1.030737    0.46411473 -1.6747969 ]\n",
            " [ 0.03445188  2.2118266  -0.09531136  3.7066562  -1.366596   -2.4453778\n",
            "   1.1089785   1.6711231  -0.1931786  -1.9924881 ]\n",
            " [ 1.3013271   2.1739368  -1.3968247   1.0417124   0.00855717 -0.18565524\n",
            "  -0.20239142  0.662079    0.79116714 -1.8957533 ]\n",
            " [ 0.93037224  1.2514454   0.85427856  1.2147661  -1.7500966   0.62698203\n",
            "   0.13185558  0.993201   -0.34603208 -0.388067  ]\n",
            " [-0.07648222  1.0237768  -1.5548066   0.4356427  -0.2784152   0.13866279\n",
            "   0.8313866  -0.56545514  0.7219545  -1.3320528 ]]\n"
          ]
        }
      ]
    },
    {
      "cell_type": "code",
      "source": [],
      "metadata": {
        "id": "6BaFxUotJQGD"
      },
      "execution_count": null,
      "outputs": []
    }
  ]
}